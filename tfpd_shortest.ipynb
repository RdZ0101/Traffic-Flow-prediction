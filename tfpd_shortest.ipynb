{
 "cells": [
  {
   "cell_type": "markdown",
   "metadata": {},
   "source": [
    "Dijkstra's Algorithm\n",
    "\n",
    "To do:\n",
    "\n",
    "Find all intersection links\n",
    "Find distance between links:\n",
    "- The speed limit on every link will be the same and set at 60km/h\n",
    "- The travel time between two SCATS sites A and B can be approximated by a simple expression based on the volume at the SCATS site A and the distance between A and B\n",
    "- There is an average delay of 30 seconds to pass each controlled intersection\n",
    "- The answer is you don't calculate the travel time between 2 arbitrary SCATS sites directly, but you need to calculate the travel time between 2 adjacent SCATS sites along the route and add them up at the end.\n",
    "- time = distance/speed (1)\n",
    "- Because the distance between 2 adjacent SCATS sites is fixed, you just need a function to convert from traffic flow to speed, and then you can use the distance and speed to calculate time according to equation (1).\n",
    "\n",
    "\n",
    "1. Find adjacent scat sits using CD_Melway, Long or Lat\n",
    "2. Calculate the travel time betwenn scat, 60km/h volume of each site (volume from nt_sae), 30 seconds each intersections"
   ]
  }
 ],
 "metadata": {
  "kernelspec": {
   "display_name": "Python 3",
   "language": "python",
   "name": "python3"
  },
  "language_info": {
   "codemirror_mode": {
    "name": "ipython",
    "version": 3
   },
   "file_extension": ".py",
   "mimetype": "text/x-python",
   "name": "python",
   "nbconvert_exporter": "python",
   "pygments_lexer": "ipython3",
   "version": "3.11.0"
  }
 },
 "nbformat": 4,
 "nbformat_minor": 2
}
