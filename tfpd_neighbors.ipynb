{
 "cells": [
  {
   "cell_type": "markdown",
   "metadata": {},
   "source": [
    "tfpd_neighbors aims to find the closest neighbors to each scat. This allows for the future routing to take place. Firslty, all of the neighbors will be found using the shared roads. From there, the closest neighbor in each direction will be calculated using the long and lat of each scat."
   ]
  },
  {
   "cell_type": "code",
   "execution_count": 1,
   "metadata": {},
   "outputs": [],
   "source": [
    "import os\n",
    "import pandas as pd\n",
    "import re\n",
    "from geopy.distance import geodesic\n",
    "import math\n"
   ]
  },
  {
   "cell_type": "markdown",
   "metadata": {},
   "source": [
    "Find SCAT neighbors based on the shared roads"
   ]
  },
  {
   "cell_type": "code",
   "execution_count": 3,
   "metadata": {},
   "outputs": [
    {
     "name": "stdout",
     "output_type": "stream",
     "text": [
      "data/scats_neighbors.csv already exists.\n"
     ]
    }
   ],
   "source": [
    "scats_neighbors_file = 'data/scats_neighbors.csv'\n",
    "scats_data_file = 'scats-10-2006.csv'\n",
    "\n",
    "#Get road names\n",
    "def extract_road_names(location):\n",
    "    #Remove unused info and clean road names\n",
    "    location_cleaned = re.sub(r'\\b[NESW]\\b', '', location)\n",
    "    roads = re.split(r'\\s(of|near)\\s', location_cleaned)\n",
    "    \n",
    "    cleaned_roads = [road.strip() for road in roads if road.strip() and road.lower() not in ['of', 'near']]\n",
    "    final_roads = []\n",
    "    for road in cleaned_roads:\n",
    "        sub_roads = re.split(r'\\s(OF|NEAR)\\s', road)\n",
    "        final_roads.extend([sub.strip() for sub in sub_roads if sub.strip() and sub.lower() not in ['of', 'near']])\n",
    "    \n",
    "    return list(set(final_roads))\n",
    "\n",
    "#Create file if it doesnt exist\n",
    "if not os.path.exists(scats_neighbors_file):\n",
    "    print(f\"{scats_neighbors_file} not found. Creating the file now.\")\n",
    "    \n",
    "    data = pd.read_csv(scats_data_file)\n",
    "    \n",
    "    #Get roadnames for each SCAT\n",
    "    data['Roads'] = data['Location'].apply(extract_road_names)\n",
    "\n",
    "    #Select SCATS Number, Roads, NB_LATITUDE, NB_LONGITUDE\n",
    "    data_selected = data[['SCATS Number', 'Roads', 'NB_LATITUDE', 'NB_LONGITUDE']]\n",
    "\n",
    "    #Calculate ave long and lat for each SCAT\n",
    "    grouped = data_selected.groupby('SCATS Number').agg({\n",
    "        'Roads': lambda x: list(set([road for sublist in x for road in sublist])),\n",
    "        'NB_LATITUDE': 'mean',\n",
    "        'NB_LONGITUDE': 'mean'\n",
    "    }).reset_index()\n",
    "\n",
    "    #Find neighbors based on shared roads\n",
    "    def find_neighbors(scats_num, road_names):\n",
    "        potential_neighbors = data[\n",
    "            (data['SCATS Number'] != scats_num) & \n",
    "            (data['Roads'].apply(lambda roads: any(road in roads for road in road_names)))\n",
    "        ]\n",
    "        return ', '.join(map(str, potential_neighbors['SCATS Number'].unique()))\n",
    "\n",
    "    grouped['Neighbors'] = grouped.apply(lambda row: find_neighbors(row['SCATS Number'], row['Roads']), axis=1)\n",
    "    grouped['Road(s)'] = grouped['Roads'].apply(lambda roads: ', '.join(roads))\n",
    "\n",
    "    grouped.rename(columns={\n",
    "        'SCATS Number': 'SCAT number',\n",
    "        'NB_LATITUDE': 'NB_Latitude',\n",
    "        'NB_LONGITUDE': 'NB_Longitude',\n",
    "    }, inplace=True)\n",
    "\n",
    "    grouped.drop(columns=['Roads'], inplace=True)\n",
    "\n",
    "    grouped.to_csv(scats_neighbors_file, index=False)\n",
    "    print(f\"{scats_neighbors_file} has been created successfully.\")\n",
    "else:\n",
    "    print(f\"{scats_neighbors_file} already exists.\")\n"
   ]
  },
  {
   "cell_type": "markdown",
   "metadata": {},
   "source": [
    "Find the closest neighbors is each direction using the shared roads and the long and lat"
   ]
  },
  {
   "cell_type": "code",
   "execution_count": 4,
   "metadata": {},
   "outputs": [
    {
     "name": "stdout",
     "output_type": "stream",
     "text": [
      "Updated neighbors saved to data/scats_neighbors.csv with closest neighbors added.\n"
     ]
    }
   ],
   "source": [
    "#Calc distance between two points using geodesic\n",
    "def calculate_distance_and_bearing(lat1, lon1, lat2, lon2):\n",
    "    distance = geodesic((lat1, lon1), (lat2, lon2)).meters\n",
    "    \n",
    "    #Find bearing\n",
    "    d_lon = math.radians(lon2 - lon1)\n",
    "    lat1 = math.radians(lat1)\n",
    "    lat2 = math.radians(lat2)\n",
    "    x = math.sin(d_lon) * math.cos(lat2)\n",
    "    y = math.cos(lat1) * math.sin(lat2) - math.sin(lat1) * math.cos(lat2) * math.cos(d_lon)\n",
    "    bearing = math.degrees(math.atan2(x, y))\n",
    "    \n",
    "    #Normalize bearing to 0-360 degrees\n",
    "    bearing = (bearing + 360) % 360\n",
    "    return distance, bearing\n",
    "\n",
    "#Calc direction using bearing. Only NSEW\n",
    "def get_direction(bearing):\n",
    "    if 45 <= bearing < 135:\n",
    "        return 'East'\n",
    "    elif 135 <= bearing < 225:\n",
    "        return 'South'\n",
    "    elif 225 <= bearing < 315:\n",
    "        return 'West'\n",
    "    else:\n",
    "        return 'North'\n",
    "\n",
    "#Find closest scat in each direction\n",
    "def find_closest_neighbors(scats_num, lat, lon, neighbors):\n",
    "    #Only use the scat if it is already defined as a neighbor (has a shared road)\n",
    "    neighbors_list = [int(n.strip()) for n in neighbors.split(',')] if isinstance(neighbors, str) else []\n",
    "    neighbors_data = data[data['SCAT number'].isin(neighbors_list)]\n",
    "    \n",
    "    closest_neighbors = {\n",
    "        'North': None,\n",
    "        'East': None,\n",
    "        'South': None,\n",
    "        'West': None\n",
    "    }\n",
    "    \n",
    "    closest_distances = {\n",
    "        'North': float('inf'),\n",
    "        'East': float('inf'),\n",
    "        'South': float('inf'),\n",
    "        'West': float('inf')\n",
    "    }\n",
    "    \n",
    "    #For each neighbor, calculate the distance and bearing\n",
    "    for _, neighbor in neighbors_data.iterrows():\n",
    "        neighbor_lat = neighbor['NB_Latitude']\n",
    "        neighbor_lon = neighbor['NB_Longitude']\n",
    "        distance, bearing = calculate_distance_and_bearing(lat, lon, neighbor_lat, neighbor_lon)\n",
    "        \n",
    "        direction = get_direction(bearing)\n",
    "        \n",
    "        #Update the closest neighbor in that direction\n",
    "        if distance < closest_distances[direction]:\n",
    "            closest_distances[direction] = distance\n",
    "            closest_neighbors[direction] = neighbor['SCAT number']\n",
    "    \n",
    "    return closest_neighbors\n",
    "\n",
    "#Load the existing scats_neighbors.csv file to process nearest neighbors\n",
    "if os.path.exists(scats_neighbors_file):\n",
    "    data = pd.read_csv(scats_neighbors_file)\n",
    "\n",
    "    #Process each SCAT to find its closest neighbor in each direction\n",
    "    for idx, row in data.iterrows():\n",
    "        scats_num = row['SCAT number']\n",
    "        lat = row['NB_Latitude']\n",
    "        lon = row['NB_Longitude']\n",
    "        \n",
    "        #Use precomputed neighbors\n",
    "        neighbors = row['Neighbors']\n",
    "        \n",
    "        closest_neighbors = find_closest_neighbors(scats_num, lat, lon, neighbors)\n",
    "        \n",
    "        #Save closest neighbor\n",
    "        data.at[idx, 'North Neighbor'] = closest_neighbors['North']\n",
    "        data.at[idx, 'East Neighbor'] = closest_neighbors['East']\n",
    "        data.at[idx, 'South Neighbor'] = closest_neighbors['South']\n",
    "        data.at[idx, 'West Neighbor'] = closest_neighbors['West']\n",
    "    \n",
    "    data.drop(columns=['Neighbors'], inplace=True)\n",
    "\n",
    "    #Save the updated DataFrame back to the same file\n",
    "    data.to_csv(scats_neighbors_file, index=False)\n",
    "    print(f\"Updated neighbors saved to {scats_neighbors_file} with closest neighbors added.\")\n",
    "else:\n",
    "    print(f\"{scats_neighbors_file} does not exist. Please create the file in the previous section.\")\n"
   ]
  }
 ],
 "metadata": {
  "kernelspec": {
   "display_name": "Python 3",
   "language": "python",
   "name": "python3"
  },
  "language_info": {
   "codemirror_mode": {
    "name": "ipython",
    "version": 3
   },
   "file_extension": ".py",
   "mimetype": "text/x-python",
   "name": "python",
   "nbconvert_exporter": "python",
   "pygments_lexer": "ipython3",
   "version": "3.11.0"
  }
 },
 "nbformat": 4,
 "nbformat_minor": 2
}
